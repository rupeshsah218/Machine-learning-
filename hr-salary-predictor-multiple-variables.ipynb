{
 "cells": [
  {
   "cell_type": "markdown",
   "id": "2ee4574e",
   "metadata": {},
   "source": [
    "# HR Salary Predictor\n",
    "This notebook trains a simple linear regression model to predict salaries based on candidate **experience**, **written test score**, and **personal interview score**.\n",
    "\n",
    "It performs minimal preprocessing (parsing textual experience values and imputing missing values) and then fits a `LinearRegression` model.\n"
   ]
  },
  {
   "cell_type": "code",
   "execution_count": 2,
   "id": "6cdf3066",
   "metadata": {
    "execution": {
     "iopub.execute_input": "2025-08-15T07:35:02.448480Z",
     "iopub.status.busy": "2025-08-15T07:35:02.448150Z",
     "iopub.status.idle": "2025-08-15T07:35:03.902898Z",
     "shell.execute_reply": "2025-08-15T07:35:03.901761Z",
     "shell.execute_reply.started": "2025-08-15T07:35:02.448437Z"
    }
   },
   "outputs": [
    {
     "data": {
      "text/html": [
       "<div>\n",
       "<style scoped>\n",
       "    .dataframe tbody tr th:only-of-type {\n",
       "        vertical-align: middle;\n",
       "    }\n",
       "\n",
       "    .dataframe tbody tr th {\n",
       "        vertical-align: top;\n",
       "    }\n",
       "\n",
       "    .dataframe thead th {\n",
       "        text-align: right;\n",
       "    }\n",
       "</style>\n",
       "<table border=\"1\" class=\"dataframe\">\n",
       "  <thead>\n",
       "    <tr style=\"text-align: right;\">\n",
       "      <th></th>\n",
       "      <th>experience</th>\n",
       "      <th>test_score(out of 10)</th>\n",
       "      <th>interview_score(out of 10)</th>\n",
       "      <th>salary($)</th>\n",
       "    </tr>\n",
       "  </thead>\n",
       "  <tbody>\n",
       "    <tr>\n",
       "      <th>0</th>\n",
       "      <td>NaN</td>\n",
       "      <td>8.0</td>\n",
       "      <td>9</td>\n",
       "      <td>50000</td>\n",
       "    </tr>\n",
       "    <tr>\n",
       "      <th>1</th>\n",
       "      <td>NaN</td>\n",
       "      <td>8.0</td>\n",
       "      <td>6</td>\n",
       "      <td>45000</td>\n",
       "    </tr>\n",
       "    <tr>\n",
       "      <th>2</th>\n",
       "      <td>five</td>\n",
       "      <td>6.0</td>\n",
       "      <td>7</td>\n",
       "      <td>60000</td>\n",
       "    </tr>\n",
       "    <tr>\n",
       "      <th>3</th>\n",
       "      <td>two</td>\n",
       "      <td>10.0</td>\n",
       "      <td>10</td>\n",
       "      <td>65000</td>\n",
       "    </tr>\n",
       "    <tr>\n",
       "      <th>4</th>\n",
       "      <td>seven</td>\n",
       "      <td>9.0</td>\n",
       "      <td>6</td>\n",
       "      <td>70000</td>\n",
       "    </tr>\n",
       "  </tbody>\n",
       "</table>\n",
       "</div>"
      ],
      "text/plain": [
       "  experience  test_score(out of 10)  interview_score(out of 10)  salary($)\n",
       "0        NaN                    8.0                           9      50000\n",
       "1        NaN                    8.0                           6      45000\n",
       "2       five                    6.0                           7      60000\n",
       "3        two                   10.0                          10      65000\n",
       "4      seven                    9.0                           6      70000"
      ]
     },
     "execution_count": 2,
     "metadata": {},
     "output_type": "execute_result"
    }
   ],
   "source": [
    "import pandas as pd\n",
    "import numpy as np\n",
    "from sklearn.linear_model import LinearRegression\n",
    "from sklearn.compose import ColumnTransformer\n",
    "from sklearn.pipeline import Pipeline\n",
    "from sklearn.impute import SimpleImputer\n",
    "\n",
    "csv_path = 'hiring.csv'\n",
    "df = pd.read_csv('/kaggle/input/hr-salary-predictor/hiring.csv')\n",
    "df.head()"
   ]
  },
  {
   "cell_type": "markdown",
   "id": "af378e46-e785-462a-99c8-6f915ac5a7a5",
   "metadata": {},
   "source": [
    "# Parse textual/varied experience into numeric years"
   ]
  },
  {
   "cell_type": "code",
   "execution_count": 3,
   "id": "b721a2ff",
   "metadata": {
    "execution": {
     "iopub.execute_input": "2025-08-15T07:35:39.928897Z",
     "iopub.status.busy": "2025-08-15T07:35:39.928344Z",
     "iopub.status.idle": "2025-08-15T07:35:39.936834Z",
     "shell.execute_reply": "2025-08-15T07:35:39.935856Z",
     "shell.execute_reply.started": "2025-08-15T07:35:39.928866Z"
    }
   },
   "outputs": [],
   "source": [
    "word_to_num = {\n",
    "    'zero':0,'one':1,'two':2,'three':3,'four':4,'five':5,\n",
    "    'six':6,'seven':7,'eight':8,'nine':9,'ten':10,'eleven':11,'twelve':12\n",
    "}\n",
    "import pandas as pd\n",
    "import numpy as np\n",
    "\n",
    "def parse_experience(x):\n",
    "    if pd.isna(x):\n",
    "        return np.nan\n",
    "    if isinstance(x, (int, float)):\n",
    "        return float(x)\n",
    "    s = str(x).strip().lower()\n",
    "    try:\n",
    "        return float(s)\n",
    "    except Exception:\n",
    "        pass\n",
    "    for token in ['yrs','yr','years','year','experience','exp',' ']:\n",
    "        s = s.replace(token, '')\n",
    "    s = s.strip()\n",
    "    try:\n",
    "        return float(s)\n",
    "    except Exception:\n",
    "        pass\n",
    "    return float(word_to_num.get(s, np.nan))\n"
   ]
  },
  {
   "cell_type": "markdown",
   "id": "8625210c-6d18-4a64-9b5d-20455c89329d",
   "metadata": {},
   "source": [
    "# Auto-detect common column names"
   ]
  },
  {
   "cell_type": "code",
   "execution_count": 4,
   "id": "85224ecb",
   "metadata": {
    "execution": {
     "iopub.execute_input": "2025-08-15T07:36:05.188181Z",
     "iopub.status.busy": "2025-08-15T07:36:05.187898Z",
     "iopub.status.idle": "2025-08-15T07:36:05.260087Z",
     "shell.execute_reply": "2025-08-15T07:36:05.259379Z",
     "shell.execute_reply.started": "2025-08-15T07:36:05.188161Z"
    }
   },
   "outputs": [
    {
     "data": {
      "text/html": [
       "<style>#sk-container-id-1 {color: black;background-color: white;}#sk-container-id-1 pre{padding: 0;}#sk-container-id-1 div.sk-toggleable {background-color: white;}#sk-container-id-1 label.sk-toggleable__label {cursor: pointer;display: block;width: 100%;margin-bottom: 0;padding: 0.3em;box-sizing: border-box;text-align: center;}#sk-container-id-1 label.sk-toggleable__label-arrow:before {content: \"▸\";float: left;margin-right: 0.25em;color: #696969;}#sk-container-id-1 label.sk-toggleable__label-arrow:hover:before {color: black;}#sk-container-id-1 div.sk-estimator:hover label.sk-toggleable__label-arrow:before {color: black;}#sk-container-id-1 div.sk-toggleable__content {max-height: 0;max-width: 0;overflow: hidden;text-align: left;background-color: #f0f8ff;}#sk-container-id-1 div.sk-toggleable__content pre {margin: 0.2em;color: black;border-radius: 0.25em;background-color: #f0f8ff;}#sk-container-id-1 input.sk-toggleable__control:checked~div.sk-toggleable__content {max-height: 200px;max-width: 100%;overflow: auto;}#sk-container-id-1 input.sk-toggleable__control:checked~label.sk-toggleable__label-arrow:before {content: \"▾\";}#sk-container-id-1 div.sk-estimator input.sk-toggleable__control:checked~label.sk-toggleable__label {background-color: #d4ebff;}#sk-container-id-1 div.sk-label input.sk-toggleable__control:checked~label.sk-toggleable__label {background-color: #d4ebff;}#sk-container-id-1 input.sk-hidden--visually {border: 0;clip: rect(1px 1px 1px 1px);clip: rect(1px, 1px, 1px, 1px);height: 1px;margin: -1px;overflow: hidden;padding: 0;position: absolute;width: 1px;}#sk-container-id-1 div.sk-estimator {font-family: monospace;background-color: #f0f8ff;border: 1px dotted black;border-radius: 0.25em;box-sizing: border-box;margin-bottom: 0.5em;}#sk-container-id-1 div.sk-estimator:hover {background-color: #d4ebff;}#sk-container-id-1 div.sk-parallel-item::after {content: \"\";width: 100%;border-bottom: 1px solid gray;flex-grow: 1;}#sk-container-id-1 div.sk-label:hover label.sk-toggleable__label {background-color: #d4ebff;}#sk-container-id-1 div.sk-serial::before {content: \"\";position: absolute;border-left: 1px solid gray;box-sizing: border-box;top: 0;bottom: 0;left: 50%;z-index: 0;}#sk-container-id-1 div.sk-serial {display: flex;flex-direction: column;align-items: center;background-color: white;padding-right: 0.2em;padding-left: 0.2em;position: relative;}#sk-container-id-1 div.sk-item {position: relative;z-index: 1;}#sk-container-id-1 div.sk-parallel {display: flex;align-items: stretch;justify-content: center;background-color: white;position: relative;}#sk-container-id-1 div.sk-item::before, #sk-container-id-1 div.sk-parallel-item::before {content: \"\";position: absolute;border-left: 1px solid gray;box-sizing: border-box;top: 0;bottom: 0;left: 50%;z-index: -1;}#sk-container-id-1 div.sk-parallel-item {display: flex;flex-direction: column;z-index: 1;position: relative;background-color: white;}#sk-container-id-1 div.sk-parallel-item:first-child::after {align-self: flex-end;width: 50%;}#sk-container-id-1 div.sk-parallel-item:last-child::after {align-self: flex-start;width: 50%;}#sk-container-id-1 div.sk-parallel-item:only-child::after {width: 0;}#sk-container-id-1 div.sk-dashed-wrapped {border: 1px dashed gray;margin: 0 0.4em 0.5em 0.4em;box-sizing: border-box;padding-bottom: 0.4em;background-color: white;}#sk-container-id-1 div.sk-label label {font-family: monospace;font-weight: bold;display: inline-block;line-height: 1.2em;}#sk-container-id-1 div.sk-label-container {text-align: center;}#sk-container-id-1 div.sk-container {/* jupyter's `normalize.less` sets `[hidden] { display: none; }` but bootstrap.min.css set `[hidden] { display: none !important; }` so we also need the `!important` here to be able to override the default hidden behavior on the sphinx rendered scikit-learn.org. See: https://github.com/scikit-learn/scikit-learn/issues/21755 */display: inline-block !important;position: relative;}#sk-container-id-1 div.sk-text-repr-fallback {display: none;}</style><div id=\"sk-container-id-1\" class=\"sk-top-container\"><div class=\"sk-text-repr-fallback\"><pre>Pipeline(steps=[(&#x27;preprocess&#x27;,\n",
       "                 ColumnTransformer(transformers=[(&#x27;num&#x27;,\n",
       "                                                  Pipeline(steps=[(&#x27;imputer&#x27;,\n",
       "                                                                   SimpleImputer())]),\n",
       "                                                  [&#x27;experience&#x27;,\n",
       "                                                   &#x27;test_score(out of 10)&#x27;,\n",
       "                                                   &#x27;interview_score(out of &#x27;\n",
       "                                                   &#x27;10)&#x27;])])),\n",
       "                (&#x27;regressor&#x27;, LinearRegression())])</pre><b>In a Jupyter environment, please rerun this cell to show the HTML representation or trust the notebook. <br />On GitHub, the HTML representation is unable to render, please try loading this page with nbviewer.org.</b></div><div class=\"sk-container\" hidden><div class=\"sk-item sk-dashed-wrapped\"><div class=\"sk-label-container\"><div class=\"sk-label sk-toggleable\"><input class=\"sk-toggleable__control sk-hidden--visually\" id=\"sk-estimator-id-1\" type=\"checkbox\" ><label for=\"sk-estimator-id-1\" class=\"sk-toggleable__label sk-toggleable__label-arrow\">Pipeline</label><div class=\"sk-toggleable__content\"><pre>Pipeline(steps=[(&#x27;preprocess&#x27;,\n",
       "                 ColumnTransformer(transformers=[(&#x27;num&#x27;,\n",
       "                                                  Pipeline(steps=[(&#x27;imputer&#x27;,\n",
       "                                                                   SimpleImputer())]),\n",
       "                                                  [&#x27;experience&#x27;,\n",
       "                                                   &#x27;test_score(out of 10)&#x27;,\n",
       "                                                   &#x27;interview_score(out of &#x27;\n",
       "                                                   &#x27;10)&#x27;])])),\n",
       "                (&#x27;regressor&#x27;, LinearRegression())])</pre></div></div></div><div class=\"sk-serial\"><div class=\"sk-item sk-dashed-wrapped\"><div class=\"sk-label-container\"><div class=\"sk-label sk-toggleable\"><input class=\"sk-toggleable__control sk-hidden--visually\" id=\"sk-estimator-id-2\" type=\"checkbox\" ><label for=\"sk-estimator-id-2\" class=\"sk-toggleable__label sk-toggleable__label-arrow\">preprocess: ColumnTransformer</label><div class=\"sk-toggleable__content\"><pre>ColumnTransformer(transformers=[(&#x27;num&#x27;,\n",
       "                                 Pipeline(steps=[(&#x27;imputer&#x27;, SimpleImputer())]),\n",
       "                                 [&#x27;experience&#x27;, &#x27;test_score(out of 10)&#x27;,\n",
       "                                  &#x27;interview_score(out of 10)&#x27;])])</pre></div></div></div><div class=\"sk-parallel\"><div class=\"sk-parallel-item\"><div class=\"sk-item\"><div class=\"sk-label-container\"><div class=\"sk-label sk-toggleable\"><input class=\"sk-toggleable__control sk-hidden--visually\" id=\"sk-estimator-id-3\" type=\"checkbox\" ><label for=\"sk-estimator-id-3\" class=\"sk-toggleable__label sk-toggleable__label-arrow\">num</label><div class=\"sk-toggleable__content\"><pre>[&#x27;experience&#x27;, &#x27;test_score(out of 10)&#x27;, &#x27;interview_score(out of 10)&#x27;]</pre></div></div></div><div class=\"sk-serial\"><div class=\"sk-item\"><div class=\"sk-serial\"><div class=\"sk-item\"><div class=\"sk-estimator sk-toggleable\"><input class=\"sk-toggleable__control sk-hidden--visually\" id=\"sk-estimator-id-4\" type=\"checkbox\" ><label for=\"sk-estimator-id-4\" class=\"sk-toggleable__label sk-toggleable__label-arrow\">SimpleImputer</label><div class=\"sk-toggleable__content\"><pre>SimpleImputer()</pre></div></div></div></div></div></div></div></div></div></div><div class=\"sk-item\"><div class=\"sk-estimator sk-toggleable\"><input class=\"sk-toggleable__control sk-hidden--visually\" id=\"sk-estimator-id-5\" type=\"checkbox\" ><label for=\"sk-estimator-id-5\" class=\"sk-toggleable__label sk-toggleable__label-arrow\">LinearRegression</label><div class=\"sk-toggleable__content\"><pre>LinearRegression()</pre></div></div></div></div></div></div></div>"
      ],
      "text/plain": [
       "Pipeline(steps=[('preprocess',\n",
       "                 ColumnTransformer(transformers=[('num',\n",
       "                                                  Pipeline(steps=[('imputer',\n",
       "                                                                   SimpleImputer())]),\n",
       "                                                  ['experience',\n",
       "                                                   'test_score(out of 10)',\n",
       "                                                   'interview_score(out of '\n",
       "                                                   '10)'])])),\n",
       "                ('regressor', LinearRegression())])"
      ]
     },
     "execution_count": 4,
     "metadata": {},
     "output_type": "execute_result"
    }
   ],
   "source": [
    "cols = [c.lower().strip() for c in df.columns]\n",
    "colmap = {}\n",
    "for c in df.columns:\n",
    "    cl = c.lower().strip()\n",
    "    if 'exp' in cl or 'experience' in cl:\n",
    "        colmap['experience'] = c\n",
    "    elif 'test' in cl:\n",
    "        colmap['test_score'] = c\n",
    "    elif 'interview' in cl:\n",
    "        colmap['interview_score'] = c\n",
    "    elif 'salary' in cl:\n",
    "        colmap['salary'] = c\n",
    "required = ['experience','test_score','interview_score','salary']\n",
    "missing = [r for r in required if r not in colmap]\n",
    "if missing:\n",
    "    raise ValueError(f'Missing required columns: {missing}. Found mapping: {colmap}')\n",
    "\n",
    "X_raw = df[[colmap['experience'], colmap['test_score'], colmap['interview_score']]].copy()\n",
    "y = df[colmap['salary']].copy()\n",
    "X_raw[colmap['experience']] = X_raw[colmap['experience']].apply(parse_experience)\n",
    "\n",
    "from sklearn.compose import ColumnTransformer\n",
    "from sklearn.pipeline import Pipeline\n",
    "from sklearn.impute import SimpleImputer\n",
    "from sklearn.linear_model import LinearRegression\n",
    "\n",
    "numeric_features = [colmap['experience'], colmap['test_score'], colmap['interview_score']]\n",
    "numeric_transformer = Pipeline(steps=[('imputer', SimpleImputer(strategy='mean'))])\n",
    "preprocess = ColumnTransformer(transformers=[('num', numeric_transformer, numeric_features)])\n",
    "model = Pipeline(steps=[('preprocess', preprocess), ('regressor', LinearRegression())])\n",
    "model.fit(X_raw, y)\n",
    "model"
   ]
  },
  {
   "cell_type": "markdown",
   "id": "2c11ea97-b331-45e3-83fb-1c3fef6d5581",
   "metadata": {},
   "source": [
    "# Predict for new candidates"
   ]
  },
  {
   "cell_type": "code",
   "execution_count": 5,
   "id": "03f50691",
   "metadata": {
    "execution": {
     "iopub.execute_input": "2025-08-15T07:36:28.611248Z",
     "iopub.status.busy": "2025-08-15T07:36:28.610366Z",
     "iopub.status.idle": "2025-08-15T07:36:28.628389Z",
     "shell.execute_reply": "2025-08-15T07:36:28.627406Z",
     "shell.execute_reply.started": "2025-08-15T07:36:28.611218Z"
    }
   },
   "outputs": [
    {
     "data": {
      "text/html": [
       "<div>\n",
       "<style scoped>\n",
       "    .dataframe tbody tr th:only-of-type {\n",
       "        vertical-align: middle;\n",
       "    }\n",
       "\n",
       "    .dataframe tbody tr th {\n",
       "        vertical-align: top;\n",
       "    }\n",
       "\n",
       "    .dataframe thead th {\n",
       "        text-align: right;\n",
       "    }\n",
       "</style>\n",
       "<table border=\"1\" class=\"dataframe\">\n",
       "  <thead>\n",
       "    <tr style=\"text-align: right;\">\n",
       "      <th></th>\n",
       "      <th>experience</th>\n",
       "      <th>test_score(out of 10)</th>\n",
       "      <th>interview_score(out of 10)</th>\n",
       "      <th>predicted_salary</th>\n",
       "    </tr>\n",
       "  </thead>\n",
       "  <tbody>\n",
       "    <tr>\n",
       "      <th>0</th>\n",
       "      <td>2.0</td>\n",
       "      <td>9</td>\n",
       "      <td>6</td>\n",
       "      <td>47738.891043</td>\n",
       "    </tr>\n",
       "    <tr>\n",
       "      <th>1</th>\n",
       "      <td>12.0</td>\n",
       "      <td>10</td>\n",
       "      <td>10</td>\n",
       "      <td>86424.667959</td>\n",
       "    </tr>\n",
       "  </tbody>\n",
       "</table>\n",
       "</div>"
      ],
      "text/plain": [
       "   experience  test_score(out of 10)  interview_score(out of 10)  \\\n",
       "0         2.0                      9                           6   \n",
       "1        12.0                     10                          10   \n",
       "\n",
       "   predicted_salary  \n",
       "0      47738.891043  \n",
       "1      86424.667959  "
      ]
     },
     "execution_count": 5,
     "metadata": {},
     "output_type": "execute_result"
    }
   ],
   "source": [
    "candidates = pd.DataFrame({\n",
    "    colmap['experience']: [2, 12],\n",
    "    colmap['test_score']: [9, 10],\n",
    "    colmap['interview_score']: [6, 10],\n",
    "})\n",
    "candidates[colmap['experience']] = candidates[colmap['experience']].apply(parse_experience)\n",
    "preds = model.predict(candidates)\n",
    "candidates.assign(predicted_salary=preds)"
   ]
  },
  {
   "cell_type": "markdown",
   "id": "b15901ee",
   "metadata": {},
   "source": [
    "## Notes\n",
    "- The model is a simple Ordinary Least Squares linear regression.\n",
    "- We impute missing numeric values using the mean of each column."
   ]
  }
 ],
 "metadata": {
  "kaggle": {
   "accelerator": "none",
   "dataSources": [
    {
     "datasetId": 8073055,
     "sourceId": 12770346,
     "sourceType": "datasetVersion"
    }
   ],
   "dockerImageVersionId": 31089,
   "isGpuEnabled": false,
   "isInternetEnabled": false,
   "language": "python",
   "sourceType": "notebook"
  },
  "kernelspec": {
   "display_name": "Python 3 (ipykernel)",
   "language": "python",
   "name": "python3"
  },
  "language_info": {
   "codemirror_mode": {
    "name": "ipython",
    "version": 3
   },
   "file_extension": ".py",
   "mimetype": "text/x-python",
   "name": "python",
   "nbconvert_exporter": "python",
   "pygments_lexer": "ipython3",
   "version": "3.13.5"
  }
 },
 "nbformat": 4,
 "nbformat_minor": 5
}
